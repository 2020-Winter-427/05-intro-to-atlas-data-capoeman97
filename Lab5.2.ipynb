{
 "cells": [
  {
   "cell_type": "markdown",
   "metadata": {},
   "source": [
    "# Phys 427 Lab 5.2\n",
    "\n",
    "### *Jeff Capoeman*\n",
    "\n",
    "### 13 February 2020"
   ]
  },
  {
   "cell_type": "code",
   "execution_count": 31,
   "metadata": {},
   "outputs": [],
   "source": [
    "import numpy as np\n",
    "import matplotlib.pyplot as plot\n",
    "import uproot\n",
    "import pandas\n",
    "import awkward"
   ]
  },
  {
   "cell_type": "markdown",
   "metadata": {},
   "source": [
    "### From what I understand about lorentz 4 vectors and invariant mass, is that lorentz 4 vectors are a physical vector with 4 components whos product is invariant under reference frame. The most common case you will find of 4 vectors when you look for them on the internet, is the lorentz 4 vector for relativity, where x, y , and z are the usual 3 dimensisonal components, and time is the 4th component of the vector. In the case of invariant mass, mass is the 4th component, and the product of our lorentz 4 vecor is invariant with respect to different reference frames. Our 4th mass component, is invarient in it's own reference frame in other words, so it's mass in it's own reference frame is conserved.\n",
    "\n",
    "### In the following report, you can download the data I used, similar to 5.1 of my report, using the following link\n",
    "\n",
    "###  https://atlas-opendata.web.cern.ch/atlas-opendata/samples/2020/1largeRjet1lep/MC/mc_361106.Zee.1largeRjet1lep.root"
   ]
  },
  {
   "cell_type": "code",
   "execution_count": 17,
   "metadata": {},
   "outputs": [
    {
     "data": {
      "text/plain": [
       "[b'mini;1']"
      ]
     },
     "execution_count": 17,
     "metadata": {},
     "output_type": "execute_result"
    }
   ],
   "source": [
    "data1 = uproot.open(\"nLep.root\") #I renamed the root file so I wouldn't have to type out the whole thing\n",
    "data1.keys() #found the branch that the data was in"
   ]
  },
  {
   "cell_type": "code",
   "execution_count": 18,
   "metadata": {},
   "outputs": [],
   "source": [
    "data1 = data1[\"mini\"] # called the branch from the tree\n",
    "\n",
    "data1 = data1.pandas.df(flatten = False)"
   ]
  },
  {
   "cell_type": "code",
   "execution_count": 20,
   "metadata": {},
   "outputs": [
    {
     "data": {
      "text/plain": [
       "Index(['runNumber', 'eventNumber', 'channelNumber', 'mcWeight',\n",
       "       'scaleFactor_PILEUP', 'scaleFactor_ELE', 'scaleFactor_MUON',\n",
       "       'scaleFactor_PHOTON', 'scaleFactor_TAU', 'scaleFactor_BTAG',\n",
       "       'scaleFactor_LepTRIGGER', 'scaleFactor_PhotonTRIGGER', 'trigE', 'trigM',\n",
       "       'trigP', 'lep_n', 'lep_truthMatched', 'lep_trigMatched', 'lep_pt',\n",
       "       'lep_eta', 'lep_phi', 'lep_E', 'lep_z0', 'lep_charge', 'lep_type',\n",
       "       'lep_isTightID', 'lep_ptcone30', 'lep_etcone20',\n",
       "       'lep_trackd0pvunbiased', 'lep_tracksigd0pvunbiased', 'met_et',\n",
       "       'met_phi', 'jet_n', 'jet_pt', 'jet_eta', 'jet_phi', 'jet_E', 'jet_jvt',\n",
       "       'jet_trueflav', 'jet_truthMatched', 'jet_MV2c10', 'photon_n',\n",
       "       'photon_truthMatched', 'photon_trigMatched', 'photon_pt', 'photon_eta',\n",
       "       'photon_phi', 'photon_E', 'photon_isTightID', 'photon_ptcone30',\n",
       "       'photon_etcone20', 'photon_convType', 'tau_n', 'tau_pt', 'tau_eta',\n",
       "       'tau_phi', 'tau_E', 'tau_isTightID', 'tau_truthMatched',\n",
       "       'tau_trigMatched', 'tau_nTracks', 'tau_BDTid', 'ditau_m', 'lep_pt_syst',\n",
       "       'met_et_syst', 'jet_pt_syst', 'photon_pt_syst', 'tau_pt_syst',\n",
       "       'XSection', 'SumWeights', 'largeRjet_n', 'largeRjet_pt',\n",
       "       'largeRjet_eta', 'largeRjet_phi', 'largeRjet_E', 'largeRjet_m',\n",
       "       'largeRjet_truthMatched', 'largeRjet_D2', 'largeRjet_tau32',\n",
       "       'largeRjet_pt_syst', 'tau_charge'],\n",
       "      dtype='object')"
      ]
     },
     "execution_count": 20,
     "metadata": {},
     "output_type": "execute_result"
    }
   ],
   "source": [
    "data1.keys()"
   ]
  },
  {
   "cell_type": "code",
   "execution_count": 68,
   "metadata": {},
   "outputs": [],
   "source": [
    "p = data1[\"lep_pt\"] #extracts lepton momentum\n",
    "E = data1[\"lep_E\"] #extracts lepton energy\n",
    "c = 3*(10**8)"
   ]
  },
  {
   "cell_type": "markdown",
   "metadata": {},
   "source": [
    "### Above I have extracted the leptons momentum and energy, because this is what we need to calculate the Z bosons invariant mass. The invariant mass can be found as a function of \n",
    "### $$ m_0 = \\sqrt{(\\frac{E}{c^2})^2 + (\\frac{p}{c})^2} $$\n",
    "### Leptons are what the boson decays into, and in the rest frame of the particle, energy and mass are conserved so we can extract the total energy of the system to find the origin mass."
   ]
  },
  {
   "cell_type": "code",
   "execution_count": 69,
   "metadata": {},
   "outputs": [],
   "source": [
    "p = awkward.fromiter(p)\n",
    "E = awkward.fromiter(E)\n",
    "\n",
    "# creates awkward arrays\n",
    "\n",
    "p = p.sum()\n",
    "E = E.sum()\n",
    "\n",
    "# similar to adding the energies and momentum of each particle\n",
    "\n",
    "x = (E/c**2)**2\n",
    "y = (p/c)**2\n",
    "\n",
    "# operates on each component of our arrays\n",
    "\n",
    "rootvar = x + y\n",
    "rootvar = rootvar.tolist()\n",
    "\n",
    "m_0 = np.sqrt(rootvar)"
   ]
  },
  {
   "cell_type": "code",
   "execution_count": 75,
   "metadata": {},
   "outputs": [
    {
     "data": {
      "text/plain": [
       "Text(0.5, 0, 'Boson Mass')"
      ]
     },
     "execution_count": 75,
     "metadata": {},
     "output_type": "execute_result"
    },
    {
     "data": {
      "image/png": "[encoded data removed]",
      "text/plain": [
       "<Figure size 432x288 with 1 Axes>"
      ]
     },
     "metadata": {
      "needs_background": "light"
     },
     "output_type": "display_data"
    }
   ],
   "source": [
    "plot.figure()\n",
    "plot.hist(m_0, bins = 100)\n",
    "plot.title('Zee Data')\n",
    "plot.xlabel('Boson Mass')"
   ]
  },
  {
   "cell_type": "code",
   "execution_count": 87,
   "metadata": {},
   "outputs": [
    {
     "data": {
      "text/plain": [
       "[b'mini;1']"
      ]
     },
     "execution_count": 87,
     "metadata": {},
     "output_type": "execute_result"
    }
   ],
   "source": [
    "data2 = uproot.open(\"DataLab5.root\") #I renamed the root file so I wouldn't have to type out the whole thing\n",
    "data2.keys()"
   ]
  },
  {
   "cell_type": "code",
   "execution_count": 88,
   "metadata": {},
   "outputs": [],
   "source": [
    "data2 = data2[\"mini\"] # called the branch from the tree\n",
    "data2 = data2.pandas.df(flatten = False)\n",
    "\n",
    "p2 = data2[\"lep_pt\"]\n",
    "E2 = data2[\"lep_E\"]\n",
    "\n",
    "#extracted necessary data\n",
    "\n",
    "p2 = awkward.fromiter(p2)\n",
    "E2 = awkward.fromiter(E2)\n",
    "# creates awkward arrays"
   ]
  },
  {
   "cell_type": "code",
   "execution_count": 90,
   "metadata": {},
   "outputs": [],
   "source": [
    "p2 = p2.sum()\n",
    "E2 = E2.sum()\n",
    "\n",
    "# similar to adding the energies and momentum of each particle\n",
    "\n",
    "x = (E2/c**2)**2\n",
    "y = (p2/c)**2\n",
    "\n",
    "# operates on each component of our arrays\n",
    "\n",
    "rootvar = x + y\n",
    "rootvar = rootvar.tolist()\n",
    "\n",
    "m_02 = np.sqrt(rootvar)"
   ]
  },
  {
   "cell_type": "code",
   "execution_count": 93,
   "metadata": {},
   "outputs": [
    {
     "data": {
      "text/plain": [
       "(array([0., 0., 0., 0., 0., 0., 0., 0., 0., 0., 1., 0., 0., 0., 0., 0., 0.,\n",
       "        0., 0., 0.]),\n",
       " array([-0.25632333, -0.20632333, -0.15632333, -0.10632333, -0.05632333,\n",
       "        -0.00632333,  0.04367667,  0.09367667,  0.14367667,  0.19367667,\n",
       "         0.24367667,  0.29367667,  0.34367667,  0.39367667,  0.44367667,\n",
       "         0.49367667,  0.54367667,  0.59367667,  0.64367667,  0.69367667,\n",
       "         0.74367667]),\n",
       " <a list of 20 Patch objects>)"
      ]
     },
     "execution_count": 93,
     "metadata": {},
     "output_type": "execute_result"
    },
    {
     "data": {
      "image/png": "[encoded data removed]",
      "text/plain": [
       "<Figure size 432x288 with 1 Axes>"
      ]
     },
     "metadata": {
      "needs_background": "light"
     },
     "output_type": "display_data"
    }
   ],
   "source": [
    "plot.figure()\n",
    "plot.hist(m_02, bins = 20)"
   ]
  },
  {
   "cell_type": "code",
   "execution_count": null,
   "metadata": {},
   "outputs": [],
   "source": []
  }
 ],
 "metadata": {
  "kernelspec": {
   "display_name": "Python 3",
   "language": "python",
   "name": "python3"
  },
  "language_info": {
   "codemirror_mode": {
    "name": "ipython",
    "version": 3
   },
   "file_extension": ".py",
   "mimetype": "text/x-python",
   "name": "python",
   "nbconvert_exporter": "python",
   "pygments_lexer": "ipython3",
   "version": "3.7.4"
  }
 },
 "nbformat": 4,
 "nbformat_minor": 4
}
